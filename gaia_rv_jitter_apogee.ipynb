{
  "nbformat": 4,
  "nbformat_minor": 0,
  "metadata": {
    "colab": {
      "name": "gaia-rv-jitter-apogee.ipynb",
      "provenance": [],
      "collapsed_sections": []
    },
    "kernelspec": {
      "name": "python3",
      "display_name": "Python 3"
    }
  },
  "cells": [
    {
      "cell_type": "code",
      "metadata": {
        "id": "BbtoaGSWxMMQ",
        "colab": {
          "base_uri": "https://localhost:8080/"
        },
        "outputId": "9546d239-a595-41d1-c527-88c7eb30e2eb"
      },
      "source": [
        "!pip uninstall -y jax jaxlib\n",
        "!pip install -q astroquery kepler.py corner numpyro arviz\n",
        "!pip install -q git+https://github.com/gaiaverse/scanninglaw.git"
      ],
      "execution_count": 1,
      "outputs": [
        {
          "output_type": "stream",
          "text": [
            "Uninstalling jax-0.2.8:\n",
            "  Successfully uninstalled jax-0.2.8\n",
            "Uninstalling jaxlib-0.1.59:\n",
            "  Successfully uninstalled jaxlib-0.1.59\n",
            "  Building wheel for scanninglaw (setup.py) ... \u001b[?25l\u001b[?25hdone\n"
          ],
          "name": "stdout"
        }
      ]
    },
    {
      "cell_type": "code",
      "metadata": {
        "id": "Y18n2r6mvQd7"
      },
      "source": [
        "%matplotlib inline"
      ],
      "execution_count": 2,
      "outputs": []
    },
    {
      "cell_type": "code",
      "metadata": {
        "colab": {
          "base_uri": "https://localhost:8080/"
        },
        "id": "ppFk-OlivV2F",
        "outputId": "ebf3d7d9-e92a-4c27-ca44-6c071599fdb9"
      },
      "source": [
        "import arviz as az\n",
        "import pymc3 as pm\n",
        "import numpy as np\n",
        "import scipy.stats\n",
        "import matplotlib.pyplot as plt\n",
        "\n",
        "from astropy.io import fits\n",
        "from astroquery.gaia import Gaia\n",
        "\n",
        "import corner\n",
        "import kepler\n",
        "\n",
        "import scanninglaw.times as times\n",
        "from scanninglaw.source import Source"
      ],
      "execution_count": 3,
      "outputs": [
        {
          "output_type": "stream",
          "text": [
            "Created TAP+ (v1.2.1) - Connection:\n",
            "\tHost: gea.esac.esa.int\n",
            "\tUse HTTPS: True\n",
            "\tPort: 443\n",
            "\tSSL Port: 443\n",
            "Created TAP+ (v1.2.1) - Connection:\n",
            "\tHost: geadata.esac.esa.int\n",
            "\tUse HTTPS: True\n",
            "\tPort: 443\n",
            "\tSSL Port: 443\n"
          ],
          "name": "stdout"
        }
      ]
    },
    {
      "cell_type": "markdown",
      "metadata": {
        "id": "mkrQaizwsY5a"
      },
      "source": [
        "## Scanning law"
      ]
    },
    {
      "cell_type": "code",
      "metadata": {
        "colab": {
          "base_uri": "https://localhost:8080/"
        },
        "id": "05d2qMGBsX5O",
        "outputId": "ac826471-94c3-498b-e65c-b51637ac9c1b"
      },
      "source": [
        "times.fetch()\n",
        "dr2_sl = times.dr2_sl()"
      ],
      "execution_count": 4,
      "outputs": [
        {
          "output_type": "stream",
          "text": [
            "Checking existing file \"/usr/local/lib/python3.6/dist-packages/scanninglaw/data/cog/cog_dr2_gaps_and_fractions_v1.h5\" to see if MD5 sum matches ...\n",
            "File exists. Not overwriting.\n",
            "Checking existing file \"/usr/local/lib/python3.6/dist-packages/scanninglaw/data/cog/cog_dr2_scanning_law_v2.csv\" to see if MD5 sum matches ...\n",
            "File exists. Not overwriting.\n",
            "Loading auxilliary data ...\n",
            "t = 31.829 s\n",
            "  auxilliary:  11.570 s\n",
            "          sf:   2.304 s\n",
            "interpolator:  17.955 s\n"
          ],
          "name": "stdout"
        }
      ]
    },
    {
      "cell_type": "markdown",
      "metadata": {
        "id": "DTxtYoVQLQDF"
      },
      "source": [
        "## APOGEE data\n",
        "\n",
        "First we fetch APW's \"Gold Sample\" that we want to compare to.\n",
        "We're going to restrict to sources with measured RV error in Gaia and quite bright.\n",
        "Then we choose a random target."
      ]
    },
    {
      "cell_type": "code",
      "metadata": {
        "colab": {
          "base_uri": "https://localhost:8080/"
        },
        "id": "H0RowWZtvYd7",
        "outputId": "d9193e01-1b9c-441b-9f96-0fcbacc7de42"
      },
      "source": [
        "with fits.open(\"https://users.flatironinstitute.org/~apricewhelan/data/dr16-binaries/gold_sample.fits\") as f:\n",
        "    apogee_data = f[1].data\n",
        "\n",
        "# Bright witth RV error measured\n",
        "apogee_data = apogee_data[(apogee_data[\"phot_g_mean_mag\"] < 10) & np.isfinite(apogee_data[\"radial_velocity_error\"])]\n",
        "\n",
        "# Choose a random target\n",
        "\n",
        "# ind = -6  # Precision similar to Joker\n",
        "# ind = -3  # Failure\n",
        "# target = apogee_data[np.argsort(apogee_data[\"map_P\"])[-8]]  # period ~= the baseline\n",
        "\n",
        "target = apogee_data[14]\n",
        "target_num_transit = target[\"rv_nb_transits\"]\n",
        "target_sample_variance = 2 * target_num_transit * (target[\"radial_velocity_error\"] ** 2 - 0.11 ** 2) / np.pi\n",
        "print(\"Gaia G-mag =\", target[\"phot_g_mean_mag\"])\n",
        "print(\"number of transits =\", target_num_transit)\n",
        "print(\"RV sample standard deviation =\", np.sqrt(target_sample_variance))"
      ],
      "execution_count": 5,
      "outputs": [
        {
          "output_type": "stream",
          "text": [
            "Gaia G-mag = 9.747034\n",
            "number of transits = 12\n",
            "RV sample standard deviation = 12.276306396143415\n"
          ],
          "name": "stdout"
        }
      ]
    },
    {
      "cell_type": "markdown",
      "metadata": {
        "id": "wrac_TUlsu6D"
      },
      "source": [
        "Let's get the transit times from the Gaia scanning law:"
      ]
    },
    {
      "cell_type": "code",
      "metadata": {
        "colab": {
          "base_uri": "https://localhost:8080/"
        },
        "id": "SjM8I3-_st9u",
        "outputId": "2ed08167-490c-4b8f-a079-0eb998473adf"
      },
      "source": [
        "all_transit_times = np.append(*dr2_sl(\n",
        "    Source(\n",
        "      target[\"ra\"], target[\"dec\"],\n",
        "      frame=\"icrs\", unit=\"deg\"\n",
        "    )\n",
        ")[\"times\"])\n",
        "print(len(all_transit_times))"
      ],
      "execution_count": 7,
      "outputs": [
        {
          "output_type": "stream",
          "text": [
            "46\n"
          ],
          "name": "stdout"
        }
      ]
    },
    {
      "cell_type": "markdown",
      "metadata": {
        "id": "IKyIoNGLL4Jo"
      },
      "source": [
        "## Estimate the per transit RV measurement uncertainty\n",
        "\n",
        "We're going to estimate the RV error using a model much like Andy's trex mixture model.\n",
        "First, we select some random targets close to our source in sky position, color, and magnitude:"
      ]
    },
    {
      "cell_type": "code",
      "metadata": {
        "colab": {
          "base_uri": "https://localhost:8080/"
        },
        "id": "_LdOfHHm9j99",
        "outputId": "819d2afe-7188-4977-ce6b-76b233e5eb4c"
      },
      "source": [
        "columns = (\n",
        "    \"source_id\", \"ra\", \"dec\",\n",
        "    \"parallax\", \"parallax_error\",\n",
        "    \"phot_g_mean_mag\", \"phot_bp_mean_mag\", \"phot_rp_mean_mag\",\n",
        "    \"bp_rp\", \"bp_g\", \"g_rp\",\n",
        "    \"radial_velocity\", \"radial_velocity_error\", \"rv_nb_transits\",\n",
        "    \"random_index\", \"duplicated_source\",\n",
        ")\n",
        "\n",
        "query = \"\"\"\n",
        "SELECT  TOP 100\n",
        "        {columns},\n",
        "        DISTANCE(\n",
        "            POINT('ICRS', ra, dec),\n",
        "            POINT('ICRS', {ra}, {dec})\n",
        "        ) AS dist\n",
        "FROM    gaiadr2.gaia_source\n",
        "WHERE   radial_velocity_error IS NOT NULL\n",
        "AND     duplicated_source = 'false'\n",
        "AND     rv_nb_transits >= 3\n",
        "AND     phot_g_mean_mag < {max_mag}\n",
        "AND     phot_g_mean_mag > {min_mag}\n",
        "AND     bp_rp < {max_color}\n",
        "AND     bp_rp > {min_color}\n",
        "AND     1 = CONTAINS(\n",
        "          POINT('ICRS', ra, dec),\n",
        "          CIRCLE('ICRS', {ra}, {dec}, {radius})\n",
        "        )\n",
        "ORDER BY\n",
        "  random_index ASC\n",
        "\"\"\".format(\n",
        "    columns=\", \".join(columns),\n",
        "    ra=target[\"ra\"],\n",
        "    dec=target[\"dec\"],\n",
        "    radius=10.0,\n",
        "    min_mag=target[\"phot_g_mean_mag\"] - 0.5,\n",
        "    max_mag=target[\"phot_g_mean_mag\"] + 0.5,\n",
        "    min_color=target[\"bp_rp\"] - 0.5,\n",
        "    max_color=target[\"bp_rp\"] + 0.5,\n",
        ")\n",
        "job = Gaia.launch_job_async(query)\n",
        "data = job.get_results()\n",
        "len(data)"
      ],
      "execution_count": 8,
      "outputs": [
        {
          "output_type": "stream",
          "text": [
            "INFO: Query finished. [astroquery.utils.tap.core]\n"
          ],
          "name": "stdout"
        },
        {
          "output_type": "execute_result",
          "data": {
            "text/plain": [
              "100"
            ]
          },
          "metadata": {
            "tags": []
          },
          "execution_count": 8
        }
      ]
    },
    {
      "cell_type": "markdown",
      "metadata": {
        "id": "_b5dOSKcMS8B"
      },
      "source": [
        "Then we fit a model where\n",
        "\n",
        "$$\n",
        "X_n = \\frac{{s_n}^2\\,(T_n - 1)}{{\\sigma_n}^2}\n",
        "$$\n",
        "\n",
        "is modeled as drawn from a $\\chi^2$ with $T_n$ degrees of freedom.\n",
        "In that equation, ${s_n}^2$ is the sample variance for target $n$ calculated from the RV \"error\" reported in the catalog, $T_n$ is the number of RV transits, and\n",
        "\n",
        "$$\n",
        "{\\sigma_n}^2 = {\\sigma_0}^2 + {\\delta_n}^2\n",
        "$$\n",
        "\n",
        "Here, $\\sigma_0$ is the per-transit measurement uncertainty shared across the sample and $\\delta_n$ is the excess jitter for target $n$, also a parameter.\n",
        "\n",
        "Do the MCMC:"
      ]
    },
    {
      "cell_type": "code",
      "metadata": {
        "colab": {
          "base_uri": "https://localhost:8080/",
          "height": 137
        },
        "id": "fHx7Q27W7AmF",
        "outputId": "221f65ac-4de7-47ec-e472-0527fc94e4c0"
      },
      "source": [
        "from jax.config import config\n",
        "\n",
        "config.update(\"jax_enable_x64\", True)\n",
        "\n",
        "from jax import random\n",
        "import jax.numpy as jnp\n",
        "\n",
        "import numpyro\n",
        "import numpyro.distributions as dist\n",
        "from numpyro.infer import MCMC, NUTS\n",
        "\n",
        "num_transit = np.array(data[\"rv_nb_transits\"])\n",
        "sample_variance = 2 * num_transit * (np.array(data[\"radial_velocity_error\"]) ** 2 - 0.11 ** 2) / np.pi\n",
        "\n",
        "def model(num_transit, sample_variance):\n",
        "    sigma0 = jnp.exp(numpyro.sample(\"log_sigma0\", dist.Normal(0.0, 10.0)))\n",
        "    dsigma = jnp.exp(numpyro.sample(\"log_dsigma\", dist.Normal(0.0, 10.0),\n",
        "                                    sample_shape=(len(sample_variance),)))\n",
        "    sigma2 = sigma0 ** 2 + dsigma ** 2\n",
        "    stat = sample_variance * (num_transit - 1) / sigma2\n",
        "    numpyro.sample(\"obs\", dist.Chi2(num_transit - 1), obs=stat)\n",
        "\n",
        "nuts_kernel = NUTS(model, target_accept_prob=0.99)\n",
        "mcmc = MCMC(nuts_kernel, num_warmup=2000, num_samples=2000, num_chains=2)\n",
        "rng_key = random.PRNGKey(34923)\n",
        "mcmc.run(rng_key, num_transit, sample_variance)\n",
        "inf_data = az.from_numpyro(mcmc)\n",
        "az.summary(inf_data, [\"log_sigma0\"])"
      ],
      "execution_count": 9,
      "outputs": [
        {
          "output_type": "stream",
          "text": [
            "/usr/local/lib/python3.6/dist-packages/numpyro/infer/mcmc.py:483: UserWarning: There are not enough devices to run parallel chains: expected 2 but got 1. Chains will be drawn sequentially. If you are running MCMC in CPU, consider to use `numpyro.set_host_device_count(2)` at the beginning of your program.\n",
            "  .format(self.num_chains, xla_bridge.device_count(), self.num_chains))\n"
          ],
          "name": "stderr"
        },
        {
          "output_type": "execute_result",
          "data": {
            "text/html": [
              "<div>\n",
              "<style scoped>\n",
              "    .dataframe tbody tr th:only-of-type {\n",
              "        vertical-align: middle;\n",
              "    }\n",
              "\n",
              "    .dataframe tbody tr th {\n",
              "        vertical-align: top;\n",
              "    }\n",
              "\n",
              "    .dataframe thead th {\n",
              "        text-align: right;\n",
              "    }\n",
              "</style>\n",
              "<table border=\"1\" class=\"dataframe\">\n",
              "  <thead>\n",
              "    <tr style=\"text-align: right;\">\n",
              "      <th></th>\n",
              "      <th>mean</th>\n",
              "      <th>sd</th>\n",
              "      <th>hdi_3%</th>\n",
              "      <th>hdi_97%</th>\n",
              "      <th>mcse_mean</th>\n",
              "      <th>mcse_sd</th>\n",
              "      <th>ess_mean</th>\n",
              "      <th>ess_sd</th>\n",
              "      <th>ess_bulk</th>\n",
              "      <th>ess_tail</th>\n",
              "      <th>r_hat</th>\n",
              "    </tr>\n",
              "  </thead>\n",
              "  <tbody>\n",
              "    <tr>\n",
              "      <th>log_sigma0</th>\n",
              "      <td>0.066</td>\n",
              "      <td>0.047</td>\n",
              "      <td>-0.02</td>\n",
              "      <td>0.156</td>\n",
              "      <td>0.003</td>\n",
              "      <td>0.002</td>\n",
              "      <td>261.0</td>\n",
              "      <td>221.0</td>\n",
              "      <td>258.0</td>\n",
              "      <td>445.0</td>\n",
              "      <td>1.0</td>\n",
              "    </tr>\n",
              "  </tbody>\n",
              "</table>\n",
              "</div>"
            ],
            "text/plain": [
              "             mean     sd  hdi_3%  hdi_97%  ...  ess_sd  ess_bulk  ess_tail  r_hat\n",
              "log_sigma0  0.066  0.047   -0.02    0.156  ...   221.0     258.0     445.0    1.0\n",
              "\n",
              "[1 rows x 11 columns]"
            ]
          },
          "metadata": {
            "tags": []
          },
          "execution_count": 9
        }
      ]
    },
    {
      "cell_type": "markdown",
      "metadata": {
        "id": "sQF17MwKNk-9"
      },
      "source": [
        "And we get an estimate of the per-transit measurement uncertainty.\n",
        "This relies on the actual measurement uncertainty being the same across the sample and that at least some of the targets have no excess jitter."
      ]
    },
    {
      "cell_type": "code",
      "metadata": {
        "colab": {
          "base_uri": "https://localhost:8080/",
          "height": 283
        },
        "id": "Gqc0aI-SEeg2",
        "outputId": "a9b7af11-fea9-4365-e3dc-2157c844b6cf"
      },
      "source": [
        "log_sigma = np.array(inf_data.posterior[\"log_sigma0\"]).flatten()\n",
        "plt.hist(np.exp(log_sigma), 50, histtype=\"step\")\n",
        "plt.yticks([])\n",
        "plt.xlabel(r\"$\\sigma_{RV}$ [km/s]\");"
      ],
      "execution_count": 10,
      "outputs": [
        {
          "output_type": "display_data",
          "data": {
            "image/png": "[encoded data removed]",
            "text/plain": [
              "<Figure size 432x288 with 1 Axes>"
            ]
          },
          "metadata": {
            "tags": [],
            "needs_background": "light"
          }
        }
      ]
    },
    {
      "cell_type": "markdown",
      "metadata": {
        "id": "Lj_3Xr7yN5vx"
      },
      "source": [
        "## Fit the orbit\n",
        "\n",
        "Then, finally, we estimate the orbital properties based on the RV error only.\n",
        "Right now, I'm assuming that we don't know the transit times so our results could probably be improved.\n",
        "For all the sources I've tried, the error bars on $K$ are big, but it seems to scale correctly when compared to the Joker™ values."
      ]
    },
    {
      "cell_type": "code",
      "metadata": {
        "id": "dqcKGFOpGlXk"
      },
      "source": [
        "np.random.seed(723)\n",
        "n_samp = 1000000\n",
        "\n",
        "# Simulate transit times by sampling target_num_transit samples from the scanning law\n",
        "t = np.empty((n_samp, target_num_transit))\n",
        "for n in range(n_samp):\n",
        "    t[n] = np.random.choice(all_transit_times, size=target_num_transit, replace=False)\n",
        "\n",
        "# Sample the measurement uncertainty from the trace\n",
        "sigma = np.exp(np.random.choice(log_sigma, size=n_samp))  \n",
        "\n",
        "# Sample many parameters from the prior\n",
        "log_period = np.random.uniform(np.log10(1.0), np.log10(800.0), n_samp)\n",
        "phase = np.random.uniform(-np.pi, np.pi, n_samp)\n",
        "log_semiamp = np.random.uniform(np.log(0.1), np.log(100.0), n_samp)\n",
        "ecc = scipy.stats.beta(0.867, 3.03).rvs(n_samp)\n",
        "omega = np.random.uniform(-np.pi, np.pi, n_samp)\n",
        "\n",
        "# Compute the Keplerian model\n",
        "cosw = np.cos(omega)\n",
        "sinw = np.sin(omega)\n",
        "M = 2 * np.pi * t * 10 ** -log_period[:, None] + phase[:, None]\n",
        "_, cosf, sinf = kepler.kepler(M, ecc[:, None] + np.zeros_like(M))\n",
        "mod = np.exp(log_semiamp[:, None]) * (cosw[:, None] * (ecc[:, None] + cosf) - sinw[:, None] * sinf)\n",
        "\n",
        "# Then compute the likelihood for each model\n",
        "lam = np.sum((mod - np.mean(mod, axis=1)[:, None])**2, axis=1) / sigma ** 2\n",
        "ncx2 = scipy.stats.ncx2(df=target_num_transit, nc=lam)\n",
        "log_like = ncx2.logpdf((target_num_transit - 1) * target_sample_variance / sigma ** 2)\n",
        "log_weight = log_like"
      ],
      "execution_count": 11,
      "outputs": []
    },
    {
      "cell_type": "code",
      "metadata": {
        "colab": {
          "base_uri": "https://localhost:8080/",
          "height": 300
        },
        "id": "696f3YTtHIZt",
        "outputId": "54f21f85-21a8-4c91-e3f0-7b764899b164"
      },
      "source": [
        "plt.hist(np.exp(log_semiamp), 50, weights=np.exp(log_weight - log_weight.max()), histtype=\"step\", label=\"inferred\")\n",
        "plt.axvline(target[\"MAP_K\"], color=\"k\", label=\"Joker\")\n",
        "plt.axvline(target[\"MAP_K\"] - target[\"MAP_K_err\"], color=\"k\", alpha=0.3)\n",
        "plt.axvline(target[\"MAP_K\"] + target[\"MAP_K_err\"], color=\"k\", alpha=0.3)\n",
        "plt.yticks([])\n",
        "plt.xlabel(\"K [km/s]\")\n",
        "\n",
        "q = corner.quantile(np.exp(log_semiamp), [0.16, 0.5, 0.84], weights=np.exp(log_weight - log_weight.max()))\n",
        "plt.title(r\"K = ${2:.1f}_{{-{3:.1f}}}^{{+{4:.1f}}}$ km/s; K$_\\mathrm{{Joker}}$ = {0:.1f} $\\pm$ {1:.1f} km/s\".format(target[\"MAP_K\"], target[\"MAP_K_err\"], q[1], *np.diff(q)))\n",
        "\n",
        "plt.legend();"
      ],
      "execution_count": 12,
      "outputs": [
        {
          "output_type": "display_data",
          "data": {
            "image/png": "[encoded data removed]",
            "text/plain": [
              "<Figure size 432x288 with 1 Axes>"
            ]
          },
          "metadata": {
            "tags": [],
            "needs_background": "light"
          }
        }
      ]
    },
    {
      "cell_type": "code",
      "metadata": {
        "id": "1u5J6lIQLx6n"
      },
      "source": [
        ""
      ],
      "execution_count": 12,
      "outputs": []
    }
  ]
}
