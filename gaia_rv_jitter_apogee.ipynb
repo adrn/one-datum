{
  "nbformat": 4,
  "nbformat_minor": 0,
  "metadata": {
    "colab": {
      "name": "gaia-rv-jitter-apogee.ipynb",
      "provenance": [],
      "collapsed_sections": []
    },
    "kernelspec": {
      "name": "python3",
      "display_name": "Python 3"
    }
  },
  "cells": [
    {
      "cell_type": "code",
      "metadata": {
        "id": "BbtoaGSWxMMQ"
      },
      "source": [
        "!pip install -q astroquery kepler.py corner"
      ],
      "execution_count": 1,
      "outputs": []
    },
    {
      "cell_type": "code",
      "metadata": {
        "id": "Y18n2r6mvQd7"
      },
      "source": [
        "%matplotlib inline"
      ],
      "execution_count": 2,
      "outputs": []
    },
    {
      "cell_type": "code",
      "metadata": {
        "colab": {
          "base_uri": "https://localhost:8080/"
        },
        "id": "ppFk-OlivV2F",
        "outputId": "399cc612-e376-4d24-a2c3-51dd2ce5d8c3"
      },
      "source": [
        "import pymc3 as pm\n",
        "import numpy as np\n",
        "import scipy.stats\n",
        "import matplotlib.pyplot as plt\n",
        "\n",
        "from astropy.io import fits\n",
        "from astroquery.gaia import Gaia\n",
        "\n",
        "import corner\n",
        "import kepler"
      ],
      "execution_count": 3,
      "outputs": [
        {
          "output_type": "stream",
          "text": [
            "Created TAP+ (v1.2.1) - Connection:\n",
            "\tHost: gea.esac.esa.int\n",
            "\tUse HTTPS: True\n",
            "\tPort: 443\n",
            "\tSSL Port: 443\n",
            "Created TAP+ (v1.2.1) - Connection:\n",
            "\tHost: geadata.esac.esa.int\n",
            "\tUse HTTPS: True\n",
            "\tPort: 443\n",
            "\tSSL Port: 443\n"
          ],
          "name": "stdout"
        }
      ]
    },
    {
      "cell_type": "markdown",
      "metadata": {
        "id": "DTxtYoVQLQDF"
      },
      "source": [
        "## APOGEE data\n",
        "\n",
        "First we fetch APW's \"Gold Sample\" that we want to compare to.\n",
        "We're going to restrict to sources with measured RV error in Gaia and quite bright.\n",
        "Then we choose a random target."
      ]
    },
    {
      "cell_type": "code",
      "metadata": {
        "colab": {
          "base_uri": "https://localhost:8080/"
        },
        "id": "H0RowWZtvYd7",
        "outputId": "5f8016dd-bd06-4006-ca86-9701b93afe1d"
      },
      "source": [
        "with fits.open(\"https://users.flatironinstitute.org/~apricewhelan/data/dr16-binaries/gold_sample.fits\") as f:\n",
        "    apogee_data = f[1].data\n",
        "\n",
        "# Bright witth RV error measured\n",
        "apogee_data = apogee_data[(apogee_data[\"phot_g_mean_mag\"] < 10) & np.isfinite(apogee_data[\"radial_velocity_error\"])]\n",
        "\n",
        "# Choose a random target\n",
        "target = apogee_data[14]\n",
        "target_num_transit = target[\"rv_nb_transits\"]\n",
        "target_sample_variance = 2 * target_num_transit * (target[\"radial_velocity_error\"] ** 2 - 0.11 ** 2) / np.pi\n",
        "print(\"number of transits =\", target_num_transit)\n",
        "print(\"RV sample standard deviation =\", np.sqrt(target_sample_variance))"
      ],
      "execution_count": 4,
      "outputs": [
        {
          "output_type": "stream",
          "text": [
            "number of transits = 12\n",
            "RV sample standard deviation = 12.276306396143415\n"
          ],
          "name": "stdout"
        }
      ]
    },
    {
      "cell_type": "markdown",
      "metadata": {
        "id": "IKyIoNGLL4Jo"
      },
      "source": [
        "## Estimate the per transit RV measurement uncertainty\n",
        "\n",
        "We're going to estimate the RV error using a model much like Andy's trex mixture model.\n",
        "First, we select some random targets close to our source in sky position, color, and magnitude:"
      ]
    },
    {
      "cell_type": "code",
      "metadata": {
        "colab": {
          "base_uri": "https://localhost:8080/"
        },
        "id": "_LdOfHHm9j99",
        "outputId": "e29d83fc-3fc3-4d5b-a741-3ef193afe0b1"
      },
      "source": [
        "columns = (\n",
        "    \"source_id\", \"ra\", \"dec\",\n",
        "    \"parallax\", \"parallax_error\",\n",
        "    \"phot_g_mean_mag\", \"phot_bp_mean_mag\", \"phot_rp_mean_mag\",\n",
        "    \"bp_rp\", \"bp_g\", \"g_rp\",\n",
        "    \"radial_velocity\", \"radial_velocity_error\", \"rv_nb_transits\",\n",
        "    \"random_index\", \"duplicated_source\",\n",
        ")\n",
        "\n",
        "query = \"\"\"\n",
        "SELECT  TOP 100\n",
        "        {columns},\n",
        "        DISTANCE(\n",
        "            POINT('ICRS', ra, dec),\n",
        "            POINT('ICRS', {ra}, {dec})\n",
        "        ) AS dist\n",
        "FROM    gaiadr2.gaia_source\n",
        "WHERE   radial_velocity_error IS NOT NULL\n",
        "AND     duplicated_source = 'false'\n",
        "AND     rv_nb_transits >= 3\n",
        "AND     phot_g_mean_mag < {max_mag}\n",
        "AND     phot_g_mean_mag > {min_mag}\n",
        "AND     bp_rp < {max_color}\n",
        "AND     bp_rp > {min_color}\n",
        "AND     1 = CONTAINS(\n",
        "          POINT('ICRS', ra, dec),\n",
        "          CIRCLE('ICRS', {ra}, {dec}, {radius})\n",
        "        )\n",
        "ORDER BY\n",
        "  random_index ASC\n",
        "\"\"\".format(\n",
        "    columns=\", \".join(columns),\n",
        "    ra=target[\"ra\"],\n",
        "    dec=target[\"dec\"],\n",
        "    radius=10.0,\n",
        "    min_mag=target[\"phot_g_mean_mag\"] - 0.5,\n",
        "    max_mag=target[\"phot_g_mean_mag\"] + 0.5,\n",
        "    min_color=target[\"bp_rp\"] - 0.5,\n",
        "    max_color=target[\"bp_rp\"] + 0.5,\n",
        ")\n",
        "job = Gaia.launch_job_async(query)\n",
        "data = job.get_results()\n",
        "len(data)"
      ],
      "execution_count": 5,
      "outputs": [
        {
          "output_type": "stream",
          "text": [
            "INFO: Query finished. [astroquery.utils.tap.core]\n"
          ],
          "name": "stdout"
        },
        {
          "output_type": "execute_result",
          "data": {
            "text/plain": [
              "100"
            ]
          },
          "metadata": {
            "tags": []
          },
          "execution_count": 5
        }
      ]
    },
    {
      "cell_type": "markdown",
      "metadata": {
        "id": "_b5dOSKcMS8B"
      },
      "source": [
        "Then we fit a model where\n",
        "\n",
        "$$\n",
        "X_n = \\frac{{s_n}^2\\,(T_n - 1)}{{\\sigma_n}^2}\n",
        "$$\n",
        "\n",
        "is modeled as drawn from a $\\chi^2$ with $T_n$ degrees of freedom.\n",
        "In that equation, ${s_n}^2$ is the sample variance for target $n$ calculated from the RV \"error\" reported in the catalog, $T_n$ is the number of RV transits, and\n",
        "\n",
        "$$\n",
        "{\\sigma_n}^2 = {\\sigma_0}^2 + {\\delta_n}^2\n",
        "$$\n",
        "\n",
        "Here, $\\sigma_0$ is the per-transit measurement uncertainty shared across the sample and $\\delta_n$ is the excess jitter for target $n$, also a parameter.\n",
        "\n",
        "Do the MCMC:"
      ]
    },
    {
      "cell_type": "code",
      "metadata": {
        "colab": {
          "base_uri": "https://localhost:8080/"
        },
        "id": "naOazNJGEYVt",
        "outputId": "bb7455fb-6a60-424f-a24b-2fdc01342c96"
      },
      "source": [
        "num_transit = np.array(data[\"rv_nb_transits\"])\n",
        "sample_variance = 2 * num_transit * (np.array(data[\"radial_velocity_error\"]) ** 2 - 0.11 ** 2) / np.pi\n",
        "\n",
        "with pm.Model() as model:\n",
        "\n",
        "    sigma0 = pm.math.exp(pm.Normal(\"log_sigma0\", mu=0.0, sigma=10.0))\n",
        "    dsigma = pm.math.exp(pm.Normal(\"log_dsigma\", mu=0.0, sigma=10.0, shape=len(sample_variance), testval=np.sqrt(sample_variance)))\n",
        "    sigma2 = sigma0 ** 2 + dsigma ** 2\n",
        "    stat = sample_variance * (num_transit - 1) / sigma2\n",
        "\n",
        "    pm.ChiSquared(\"obs\", nu=num_transit - 1, observed=stat)\n",
        "\n",
        "    trace = pm.sample(tune=1000, draws=1000, target_accept=0.9)"
      ],
      "execution_count": 6,
      "outputs": [
        {
          "output_type": "stream",
          "text": [
            "Auto-assigning NUTS sampler...\n",
            "Initializing NUTS using jitter+adapt_diag...\n",
            "Sequential sampling (2 chains in 1 job)\n",
            "NUTS: [log_dsigma, log_sigma0]\n",
            "100%|██████████| 2000/2000 [00:20<00:00, 99.63it/s] \n",
            "100%|██████████| 2000/2000 [00:18<00:00, 108.39it/s]\n",
            "The gelman-rubin statistic is larger than 1.05 for some parameters. This indicates slight problems during sampling.\n",
            "The estimated number of effective samples is smaller than 200 for some parameters.\n"
          ],
          "name": "stderr"
        }
      ]
    },
    {
      "cell_type": "markdown",
      "metadata": {
        "id": "sQF17MwKNk-9"
      },
      "source": [
        "And we get an estimate of the per-transit measurement uncertainty.\n",
        "This relies on the actual measurement uncertainty being the same across the sample and that at least some of the targets have no excess jitter."
      ]
    },
    {
      "cell_type": "code",
      "metadata": {
        "colab": {
          "base_uri": "https://localhost:8080/",
          "height": 283
        },
        "id": "Gqc0aI-SEeg2",
        "outputId": "c4ea34be-ba04-43c0-9113-c5f390dced64"
      },
      "source": [
        "plt.hist(np.exp(trace[\"log_sigma0\"]), 50, histtype=\"step\")\n",
        "plt.yticks([])\n",
        "plt.xlabel(r\"$\\sigma_{RV}$ [km/s]\");"
      ],
      "execution_count": 7,
      "outputs": [
        {
          "output_type": "display_data",
          "data": {
            "image/png": "[encoded data removed]",
            "text/plain": [
              "<Figure size 432x288 with 1 Axes>"
            ]
          },
          "metadata": {
            "tags": [],
            "needs_background": "light"
          }
        }
      ]
    },
    {
      "cell_type": "markdown",
      "metadata": {
        "id": "Lj_3Xr7yN5vx"
      },
      "source": [
        "## Fit the orbit\n",
        "\n",
        "Then, finally, we estimate the orbital properties based on the RV error only.\n",
        "Right now, I'm assuming that we don't know the transit times so our results could probably be improved.\n",
        "For all the sources I've tried, the error bars on $K$ are big, but it seems to scale correctly when compared to the Joker™ values."
      ]
    },
    {
      "cell_type": "code",
      "metadata": {
        "id": "dqcKGFOpGlXk"
      },
      "source": [
        "import kepler\n",
        "import scipy.stats\n",
        "\n",
        "np.random.seed(723)\n",
        "n_samp = 1000000\n",
        "\n",
        "# Simulate random transit times - I made up the number 660?\n",
        "t = np.random.uniform(0, 660, (n_samp, target_num_transit))  \n",
        "\n",
        "# Sample the measurement uncertainty from the trace\n",
        "sigma = np.exp(np.random.choice(trace[\"log_sigma0\"], size=n_samp))  \n",
        "\n",
        "# Sample many parameters from the prior\n",
        "log_period = np.random.uniform(np.log10(1.0), np.log10(5000.0), n_samp)\n",
        "phase = np.random.uniform(-np.pi, np.pi, n_samp)\n",
        "log_semiamp = np.random.uniform(np.log(0.1), np.log(100.0), n_samp)\n",
        "ecc = np.random.uniform(0, 1, n_samp)\n",
        "omega = np.random.uniform(-np.pi, np.pi, n_samp)\n",
        "\n",
        "# Compute the Keplerian model\n",
        "cosw = np.cos(omega)\n",
        "sinw = np.sin(omega)\n",
        "M = 2 * np.pi * t * 10 ** -log_period[:, None] + phase[:, None]\n",
        "_, cosf, sinf = kepler.kepler(M, ecc[:, None] + np.zeros_like(M))\n",
        "mod = np.exp(log_semiamp[:, None]) * (cosw[:, None] * (ecc[:, None] + cosf) - sinw[:, None] * sinf)\n",
        "\n",
        "# Then compute the likelihood for each model\n",
        "lam = np.sum((mod - np.mean(mod, axis=1)[:, None])**2, axis=1) / sigma ** 2\n",
        "ncx2 = scipy.stats.ncx2(df=target_num_transit, nc=lam)\n",
        "log_like = ncx2.logpdf((target_num_transit - 1) * target_sample_variance / sigma ** 2)"
      ],
      "execution_count": 8,
      "outputs": []
    },
    {
      "cell_type": "code",
      "metadata": {
        "colab": {
          "base_uri": "https://localhost:8080/",
          "height": 300
        },
        "id": "696f3YTtHIZt",
        "outputId": "42c62475-b872-4a07-f032-6d5426beb555"
      },
      "source": [
        "plt.hist(np.exp(log_semiamp), 50, weights=np.exp(log_like - log_like.max()), histtype=\"step\", label=\"inferred\")\n",
        "plt.axvline(target[\"MAP_K\"], color=\"k\", label=\"Joker\")\n",
        "plt.axvline(target[\"MAP_K\"] - target[\"MAP_K_err\"], color=\"k\", alpha=0.3)\n",
        "plt.axvline(target[\"MAP_K\"] + target[\"MAP_K_err\"], color=\"k\", alpha=0.3)\n",
        "plt.yticks([])\n",
        "plt.xlabel(\"K [km/s]\")\n",
        "\n",
        "q = corner.quantile(np.exp(log_semiamp), [0.16, 0.5, 0.84], weights=np.exp(log_like - log_like.max()))\n",
        "plt.title(r\"K = ${1:.1f}_{{-{2:.1f}}}^{{+{3:.1f}}}$ km/s; K$_\\mathrm{{Joker}}$ = {0:.1f} km/s\".format(target[\"MAP_K\"], q[1], *np.diff(q)))\n",
        "\n",
        "plt.legend();"
      ],
      "execution_count": 9,
      "outputs": [
        {
          "output_type": "display_data",
          "data": {
            "image/png": "[encoded data removed]",
            "text/plain": [
              "<Figure size 432x288 with 1 Axes>"
            ]
          },
          "metadata": {
            "tags": [],
            "needs_background": "light"
          }
        }
      ]
    },
    {
      "cell_type": "code",
      "metadata": {
        "id": "Fhb8c5DKGle8"
      },
      "source": [
        ""
      ],
      "execution_count": 9,
      "outputs": []
    }
  ]
}